{
 "cells": [
  {
   "cell_type": "code",
   "execution_count": 7,
   "id": "9571d0f8-6d07-4d53-b74a-73bc5f728452",
   "metadata": {},
   "outputs": [],
   "source": [
    "import numpy as np\n",
    "from matplotlib import pyplot as plt\n",
    "from collections import Counter\n",
    "from dataclasses import dataclass\n"
   ]
  },
  {
   "cell_type": "code",
   "execution_count": 147,
   "id": "ac054674-2851-4a15-9276-7f19bd8ca224",
   "metadata": {},
   "outputs": [],
   "source": [
    "@dataclass(frozen=True)\n",
    "class Simplex:\n",
    "    \"\"\"Combinatorial simplex\n",
    "\n",
    "    Defined by a binary number and an integer\n",
    "    coefficient. Number of 1's is dimension + 1, \n",
    "    1 means vertex is present, 0 means vertex is\n",
    "    absent. \n",
    "\n",
    "    Attributes:\n",
    "        vertices: int - should be read as a binary number. \n",
    "        Each digit represents a \"point\". 0 means the simplex \n",
    "        does not contain this point. 1 means the simplex contains \n",
    "        the point. For instance, 1101 is a two-dimensional simplex.\n",
    "        111 is another two-dimensional simplex. 11 is a one-dimensional\n",
    "        simplex contained in 111, but not in 1101.\n",
    "\n",
    "        coeff: int = 1 - the integer coefficient before the simplex. \n",
    "    \"\"\"\n",
    "    vertices: int\n",
    "    coeff: int = 1\n",
    "    \n",
    "    def __repr__(self):\n",
    "        return f'{self.coeff} * ' + bin(self.vertices)\n",
    "\n",
    "    def __eq__(self, s):\n",
    "        \"\"\"Equality\n",
    "            Two simplices are equal, \n",
    "            iff they have the same vertices\n",
    "        \"\"\"\n",
    "        if s.vertices == self.vertices:\n",
    "            return True\n",
    "\n",
    "        else:\n",
    "            return False\n",
    "\n",
    "    \n",
    "    def __hash__(self):\n",
    "        return self.vertices # It is a single number anyway        \n",
    "\n",
    "    def boundary(self) -> list[Simplex]:\n",
    "        simplex = self.vertices\n",
    "        boundary_simplices = [simplex & ~(1 << k) # 01011 AND NOT(00001, 00010, ...)\n",
    "                             for k in range(int(np.ceil(np.log2(simplex))))\n",
    "                             if (simplex & ~(1 << k) != simplex)]\n",
    "\n",
    "        boundary_signs = np.array([(-1)**n for n in range(len(boundary_simplices))])\n",
    "\n",
    "        return list(map(lambda x: Simplex(*x),\n",
    "                        list(zip(boundary_simplices, self.coeff*boundary_signs))))\n",
    "\n",
    "\n",
    "class Complex:\n",
    "    \"\"\"Combinatorial simplicial complex\n",
    "    \n",
    "    \n",
    "    \"\"\"\n",
    "    def __init__(self, simplices: list[Simplex]):\n",
    "        self.simp = simplices\n",
    "        self.coeff = np.array([s.coeff for s in simplices])\n",
    "        \n",
    "    def __add__(self, cmp):\n",
    "        \n",
    "\n",
    "    def tidy(self):\n",
    "        counter = {}\n",
    "        for s in self.simplices:\n",
    "            if s in c\n",
    "    \n",
    "    \n",
    "    def boundary(self) -> Complex:\n",
    "        return "
   ]
  },
  {
   "cell_type": "code",
   "execution_count": 142,
   "id": "f446c508-3e4a-41db-98ac-d366398430d1",
   "metadata": {},
   "outputs": [
    {
     "name": "stdout",
     "output_type": "stream",
     "text": [
      "1 * 0b1111110\n"
     ]
    }
   ],
   "source": [
    "S = Simplex(126, 1)\n",
    "print(S)"
   ]
  },
  {
   "cell_type": "code",
   "execution_count": 145,
   "id": "bf3090dd-1273-48a1-82bb-b045a096edbb",
   "metadata": {},
   "outputs": [
    {
     "data": {
      "text/plain": [
       "[1 * 0b1111100,\n",
       " -1 * 0b1111010,\n",
       " 1 * 0b1110110,\n",
       " -1 * 0b1101110,\n",
       " 1 * 0b1011110,\n",
       " -1 * 0b111110]"
      ]
     },
     "execution_count": 145,
     "metadata": {},
     "output_type": "execute_result"
    }
   ],
   "source": [
    "S.boundary()"
   ]
  },
  {
   "cell_type": "code",
   "execution_count": 49,
   "id": "b49c8127-c224-4844-a6c6-9417a3d2af1a",
   "metadata": {},
   "outputs": [],
   "source": [
    "x = 1"
   ]
  },
  {
   "cell_type": "code",
   "execution_count": 54,
   "id": "431a2d65-2151-4db8-a7a4-744e74ac95be",
   "metadata": {},
   "outputs": [
    {
     "data": {
      "text/plain": [
       "['0b1',\n",
       " '0b10',\n",
       " '0b100',\n",
       " '0b1000',\n",
       " '0b10000',\n",
       " '0b100000',\n",
       " '0b1000000',\n",
       " '0b10000000',\n",
       " '0b100000000',\n",
       " '0b1000000000']"
      ]
     },
     "execution_count": 54,
     "metadata": {},
     "output_type": "execute_result"
    }
   ],
   "source": [
    "list(map(bin, [1 << n for n in range(10)]))"
   ]
  },
  {
   "cell_type": "code",
   "execution_count": 74,
   "id": "d020cd06-37b3-4386-9529-bfda9f330976",
   "metadata": {},
   "outputs": [],
   "source": [
    "simplex = 137"
   ]
  },
  {
   "cell_type": "code",
   "execution_count": 75,
   "id": "656be9d6-97bb-44da-9490-252d7651a29b",
   "metadata": {},
   "outputs": [
    {
     "data": {
      "text/plain": [
       "'0b10001001'"
      ]
     },
     "execution_count": 75,
     "metadata": {},
     "output_type": "execute_result"
    }
   ],
   "source": [
    "bin(simplex)"
   ]
  },
  {
   "cell_type": "code",
   "execution_count": 109,
   "id": "b5091e3e-7703-4be5-8741-5d504ad0dccc",
   "metadata": {},
   "outputs": [],
   "source": [
    "boundary_simplices = [simplex & ~(1 << k) \n",
    "                     for k in range(int(np.ceil(np.log2(simplex))))\n",
    "                     if (simplex & ~(1 << k) != simplex)]"
   ]
  },
  {
   "cell_type": "code",
   "execution_count": 108,
   "id": "18c860f1-7a6d-4355-ac28-8e8af594a04a",
   "metadata": {},
   "outputs": [],
   "source": [
    "boundary_signs = np.flip(np.array([(-1)**n for n in range(len(boundary_simplices))]))"
   ]
  },
  {
   "cell_type": "code",
   "execution_count": 136,
   "id": "12a744f0-94e0-47cf-a072-a1a78cf2a4e5",
   "metadata": {},
   "outputs": [
    {
     "data": {
      "text/plain": [
       "[1 * 0b10001000, -1 * 0b10000001, 1 * 0b1001]"
      ]
     },
     "execution_count": 136,
     "metadata": {},
     "output_type": "execute_result"
    }
   ],
   "source": [
    "list(map(lambda x: Simplex(*x), list(zip(boundary_simplices, boundary_signs))))"
   ]
  },
  {
   "cell_type": "code",
   "execution_count": 1,
   "id": "ce6c58f3-0f04-4f70-bcf8-297f031add48",
   "metadata": {},
   "outputs": [],
   "source": [
    "from collections import Counter"
   ]
  },
  {
   "cell_type": "code",
   "execution_count": 2,
   "id": "0cc5ddf2-8caf-41d9-8739-e7b51796f9fc",
   "metadata": {},
   "outputs": [],
   "source": [
    "l = (1, 1, 'A', 1, 3)"
   ]
  },
  {
   "cell_type": "code",
   "execution_count": 3,
   "id": "02f99cd9-b225-4fed-8935-69580f539e84",
   "metadata": {},
   "outputs": [
    {
     "data": {
      "text/plain": [
       "Counter({1: 3, 'A': 1, 3: 1})"
      ]
     },
     "execution_count": 3,
     "metadata": {},
     "output_type": "execute_result"
    }
   ],
   "source": [
    "Counter(l)"
   ]
  },
  {
   "cell_type": "code",
   "execution_count": 14,
   "id": "dd514baa-48eb-4f61-9f2a-ecf993014b64",
   "metadata": {},
   "outputs": [
    {
     "data": {
      "text/plain": [
       "True"
      ]
     },
     "execution_count": 14,
     "metadata": {},
     "output_type": "execute_result"
    }
   ],
   "source": [
    "@dataclass(frozen=True)\n",
    "class MyClass:\n",
    "    var: int\n",
    "    coeff: int = 1\n",
    "\n",
    "    def __eq__(self, mcl):\n",
    "        if self.var == mcl.var:\n",
    "            return True\n",
    "\n",
    "        else:\n",
    "            return False\n",
    "\n",
    "    def __hash__(self):\n",
    "        return self.var\n",
    "\n",
    "\n",
    "mcl1 = MyClass(1)\n",
    "mcl2 = MyClass(2)\n",
    "mcl3 = MyClass(1)\n",
    "mcl1 == mcl3"
   ]
  },
  {
   "cell_type": "code",
   "execution_count": 16,
   "id": "d8dc9d6d-01a8-42f5-b2f9-4b72c78fd55a",
   "metadata": {},
   "outputs": [],
   "source": [
    "l = (mcl1, mcl2, mcl3)"
   ]
  },
  {
   "cell_type": "code",
   "execution_count": 17,
   "id": "5355a88c-d780-44d1-9a39-7f8ebbf642fe",
   "metadata": {},
   "outputs": [
    {
     "data": {
      "text/plain": [
       "Counter({MyClass(var=1, coeff=1): 2, MyClass(var=2, coeff=1): 1})"
      ]
     },
     "execution_count": 17,
     "metadata": {},
     "output_type": "execute_result"
    }
   ],
   "source": [
    "Counter(l)"
   ]
  }
 ],
 "metadata": {
  "kernelspec": {
   "display_name": "Python 3 (ipykernel)",
   "language": "python",
   "name": "python3"
  },
  "language_info": {
   "codemirror_mode": {
    "name": "ipython",
    "version": 3
   },
   "file_extension": ".py",
   "mimetype": "text/x-python",
   "name": "python",
   "nbconvert_exporter": "python",
   "pygments_lexer": "ipython3",
   "version": "3.12.2"
  }
 },
 "nbformat": 4,
 "nbformat_minor": 5
}
